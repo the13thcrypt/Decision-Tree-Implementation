{
  "nbformat": 4,
  "nbformat_minor": 0,
  "metadata": {
    "colab": {
      "provenance": []
    },
    "kernelspec": {
      "name": "python3",
      "display_name": "Python 3"
    },
    "language_info": {
      "name": "python"
    }
  },
  "cells": [
    {
      "cell_type": "markdown",
      "source": [
        "to calculate the entropy of a node formula is E=-SUMMATIONP(X).LOG("
      ],
      "metadata": {
        "id": "WTWc-430RgA5"
      }
    },
    {
      "cell_type": "code",
      "source": [
        "from sklearn import datasets\n",
        "from sklearn.model_selection import train_test_split\n",
        "import numpy as np\n",
        "from collections import Counter"
      ],
      "metadata": {
        "id": "3v1HjlkNUhhr"
      },
      "execution_count": 4,
      "outputs": []
    },
    {
      "cell_type": "code",
      "execution_count": 5,
      "metadata": {
        "id": "gWwzSM5rP5SF"
      },
      "outputs": [],
      "source": [
        "class Node:\n",
        "  def __init__(self, feature=None , threshold=None , left=None , right=None,*,value=None):\n",
        "    self.feature = feature\n",
        "    self.threshold = threshold\n",
        "    self.left = left\n",
        "    self.right = right\n",
        "    self.value = value\n",
        "  def is_leaf_node(self):\n",
        "    return self.value is not None"
      ]
    },
    {
      "cell_type": "code",
      "source": [
        "import numpy as np\n",
        "from collections import Counter\n",
        "\n",
        "class DecisionTree:\n",
        "  def __init__(self, min_samples_split=2, max_depth=100 , n_features=None ):\n",
        "    self.min_samples_split=min_samples_split\n",
        "    self.max_depth=max_depth\n",
        "    self.n_features=n_features\n",
        "    self.root=None\n",
        "\n",
        "  def fit(self , x,y):\n",
        "    self.n_features=x.shape[1] if not self.n_features else min(x.shape[1],self.n_features)\n",
        "    self.root=self._grow_tree(x,y, depth=0)\n",
        "\n",
        "  def _grow_tree(self,x,y, depth):\n",
        "\n",
        "    n_samples,n_feats=x.shape\n",
        "    n_labels = len(np.unique(y))\n",
        "    #check the stopping criteria\n",
        "    if (depth>=self.max_depth or n_labels==1 or n_samples<self.min_samples_split):\n",
        "      leaf_value=self._most_common_label(y)\n",
        "      return Node(value=leaf_value)\n",
        "\n",
        "    # Added check to prevent index error when n_features > n_feats\n",
        "    if self.n_features > n_feats:\n",
        "        self.n_features = n_feats\n",
        "    feat_idx = np.random.choice(n_feats , self.n_features, replace = False)\n",
        "\n",
        "\n",
        "    #find the best split\n",
        "    best_tresh , best_feature_idx = self._best_split(x,y,feat_idx)\n",
        "\n",
        "    #create child nodes\n",
        "    left_idxs , right_idxs = self._split(x[:,best_feature_idx],best_tresh)\n",
        "    left=self._grow_tree(x[left_idxs,:],y[left_idxs],depth+1)\n",
        "    right = self._grow_tree(x[right_idxs,:],y[right_idxs],depth+1)\n",
        "    return Node(best_feature_idx,best_tresh,left,right)\n",
        "\n",
        "  def _best_split(self , x,y, feat_idxs):\n",
        "    best_gain = -1\n",
        "    split_idx , split_threshhold = None ,None\n",
        "    for feat_idx in feat_idxs:\n",
        "      x_column = x[:,feat_idx]\n",
        "      thresholds = np.unique(x_column)\n",
        "      for thr in thresholds :\n",
        "        gain= self._information_gain(y, x_column, thr)\n",
        "\n",
        "        if gain>best_gain:\n",
        "          best_gain=gain\n",
        "          split_idx=feat_idx\n",
        "          split_threshhold=thr\n",
        "    return split_threshhold , split_idx\n",
        "\n",
        "  def _information_gain(self , y,x_column, threshold):\n",
        "    #parent entropy\n",
        "    parent_entropy = self._entropy(y)\n",
        "    #create children\n",
        "    left_idx, right_idx = self._split(x_column, threshold)\n",
        "    if len(left_idx)==0 or len(right_idx)==0:\n",
        "      return 0\n",
        "    #calculate the weighted avg. entropy of children\n",
        "    n=len(y)\n",
        "    n_l, n_r = len(left_idx), len(right_idx)\n",
        "    e_l, e_r = self._entropy(y[left_idx]), self._entropy(y[right_idx])\n",
        "    child_entropy = (n_l/n)*e_l + (n_r/n)*e_r\n",
        "\n",
        "    #calculate the IG\n",
        "    information_gain = parent_entropy - child_entropy\n",
        "    return information_gain\n",
        "\n",
        "\n",
        "\n",
        "  def _split(self, x_column, split_thresh):\n",
        "    left_idx = np.argwhere(x_column <= split_thresh).flatten()\n",
        "    right_idx = np.argwhere(x_column > split_thresh).flatten()\n",
        "    return left_idx, right_idx\n",
        "\n",
        "\n",
        "  def _entropy(self,y):\n",
        "    hist=np.bincount(y)\n",
        "    ps=hist/len(y)\n",
        "    return -np.sum([p*np.log(p) for p in ps if p>0])\n",
        "\n",
        "\n",
        "\n",
        "  def _most_common_label(self,y):\n",
        "    counter=Counter(y)\n",
        "    value=counter.most_common(1)[0][0]\n",
        "    return value\n",
        "\n",
        "\n",
        "  def predict(self ,x):\n",
        "    return np.array([self._traverse_tree(x_i, self.root) for x_i in x])\n",
        "\n",
        "  def _traverse_tree(self,x,node):\n",
        "    if node.is_leaf_node():\n",
        "      return node.value\n",
        "    if x[node.feature] <= node.threshold:\n",
        "      return self._traverse_tree(x,node.left)\n",
        "    return self._traverse_tree(x,node.right)"
      ],
      "metadata": {
        "id": "dUeoHyNdSe-L"
      },
      "execution_count": 8,
      "outputs": []
    },
    {
      "cell_type": "code",
      "source": [
        "from sklearn import datasets\n",
        "from sklearn.model_selection import train_test_split\n",
        "import numpy as np\n",
        "from collections import Counter\n",
        "\n",
        "\n",
        "data = datasets.load_breast_cancer()\n",
        "x,y = data.data , data.target\n",
        "x_train , x_test , y_train , y_test = train_test_split(x,y,test_size=0.2,random_state=1234)\n",
        "\n",
        "clf = DecisionTree()\n",
        "clf.fit(x_train,y_train)\n",
        "y_pred = clf.predict(x_test)\n",
        "acc = np.sum(y_pred==y_test)/len(y_test)\n",
        "\n",
        "def accuracy(y_test,y_pred):\n",
        "  return np.sum(y_pred==y_test)/len(y_test)\n",
        "\n",
        "acc = accuracy(y_test,y_pred)\n",
        "print(acc)"
      ],
      "metadata": {
        "colab": {
          "base_uri": "https://localhost:8080/"
        },
        "id": "JOsWYbtQZ-sH",
        "outputId": "5fbd383d-7f13-47cb-c747-91ea0fe33382"
      },
      "execution_count": 9,
      "outputs": [
        {
          "output_type": "stream",
          "name": "stdout",
          "text": [
            "0.9298245614035088\n"
          ]
        }
      ]
    }
  ]
}